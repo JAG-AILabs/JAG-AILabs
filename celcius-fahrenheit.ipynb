{
  "nbformat": 4,
  "nbformat_minor": 0,
  "metadata": {
    "colab": {
      "name": "Untitled0.ipynb",
      "provenance": [],
      "authorship_tag": "ABX9TyNjFLB48e7F/f0jd9w6VQuW",
      "include_colab_link": true
    },
    "kernelspec": {
      "name": "python3",
      "display_name": "Python 3"
    },
    "language_info": {
      "name": "python"
    }
  },
  "cells": [
    {
      "cell_type": "markdown",
      "metadata": {
        "id": "view-in-github",
        "colab_type": "text"
      },
      "source": [
        "<a href=\"https://colab.research.google.com/github/JAG-AILabs/JAG-AILabs/blob/main/celcius-fahrenheit.ipynb\" target=\"_parent\"><img src=\"https://colab.research.google.com/assets/colab-badge.svg\" alt=\"Open In Colab\"/></a>"
      ]
    },
    {
      "cell_type": "code",
      "metadata": {
        "id": "Gxte5-XQhFjk"
      },
      "source": [
        "import tensorflow as tf\n",
        "import numpy as np"
      ],
      "execution_count": 1,
      "outputs": []
    },
    {
      "cell_type": "code",
      "metadata": {
        "id": "i7e1WJItiWrr"
      },
      "source": [
        "celsius = np.array([ -40, -10, 0, 8, 15, 22, 38], dtype=float)\n",
        "fahrenheit = np.array([-40, 14, 32, 46, 59, 72, 100], dtype=float)"
      ],
      "execution_count": 2,
      "outputs": []
    },
    {
      "cell_type": "code",
      "metadata": {
        "id": "n3t7exo-jUIQ"
      },
      "source": [
        "#capa = tf.keras.layers.Dense(units=1, input_shape=[1])\n",
        "#modelo = tf.keras.Sequential([capa])\n",
        "\n",
        "oculta1 = tf.keras.layers.Dense(units=3,input_shape=[1])\n",
        "oculta2 = tf.keras.layers.Dense(units=3)\n",
        "oculta3 = tf.keras.layers.Dense(units=3)\n",
        "salida = tf.keras.layers.Dense(units=1)\n",
        "modelo =tf.keras.Sequential([oculta1,oculta2, oculta3, salida])"
      ],
      "execution_count": 40,
      "outputs": []
    },
    {
      "cell_type": "code",
      "metadata": {
        "id": "okyWQGQykbuc"
      },
      "source": [
        "modelo.compile(\n",
        "    optimizer=tf.keras.optimizers.Adam(learning_rate=3e-4),\n",
        "    loss='mean_squared_error'\n",
        ")"
      ],
      "execution_count": 41,
      "outputs": []
    },
    {
      "cell_type": "code",
      "metadata": {
        "colab": {
          "base_uri": "https://localhost:8080/"
        },
        "id": "6Uj-VVfmkx1R",
        "outputId": "dafdcb2f-f717-4737-9f9d-75cd572986f3"
      },
      "source": [
        "print(\"empezando entrenamiento\")\n",
        "historial =modelo.fit(celsius, fahrenheit, epochs=2000, verbose=False)\n",
        "print(\"modelo entrenado\")"
      ],
      "execution_count": 42,
      "outputs": [
        {
          "output_type": "stream",
          "name": "stdout",
          "text": [
            "empezando entrenamiento\n",
            "modelo entrenado\n"
          ]
        }
      ]
    },
    {
      "cell_type": "code",
      "metadata": {
        "colab": {
          "base_uri": "https://localhost:8080/",
          "height": 297
        },
        "id": "NLwy6UHCm8fJ",
        "outputId": "b81e3001-d976-4ea7-949b-1e149b39352a"
      },
      "source": [
        "import matplotlib.pyplot as plt\n",
        "plt.xlabel(\"#epoca\")\n",
        "plt.ylabel(\"Magnitud de la perdida\")\n",
        "plt.plot(historial.history[\"loss\"])"
      ],
      "execution_count": 43,
      "outputs": [
        {
          "output_type": "execute_result",
          "data": {
            "text/plain": [
              "[<matplotlib.lines.Line2D at 0x7f0ef7463510>]"
            ]
          },
          "metadata": {},
          "execution_count": 43
        },
        {
          "output_type": "display_data",
          "data": {
            "image/png": "[encoded data removed]",
            "text/plain": [
              "<Figure size 432x288 with 1 Axes>"
            ]
          },
          "metadata": {
            "needs_background": "light"
          }
        }
      ]
    },
    {
      "cell_type": "code",
      "metadata": {
        "colab": {
          "base_uri": "https://localhost:8080/"
        },
        "id": "GxdMghyTns8o",
        "outputId": "e0064891-6c2f-42e2-d29e-1b5809f82614"
      },
      "source": [
        "print(\"hagamos una prediccion\")\n",
        "resultado = modelo.predict([100.0])\n",
        "print(\"El resultado es\" + str(resultado) + \"fahrenheit!\")"
      ],
      "execution_count": 45,
      "outputs": [
        {
          "output_type": "stream",
          "name": "stdout",
          "text": [
            "hagamos una prediccion\n",
            "El resultado es[[212.63281]]fahrenheit!\n"
          ]
        }
      ]
    },
    {
      "cell_type": "code",
      "metadata": {
        "colab": {
          "base_uri": "https://localhost:8080/"
        },
        "id": "Raht5eT05Li_",
        "outputId": "019f5e8e-71ec-47b9-8b59-25ffd23e4f10"
      },
      "source": [
        "print(\"imprime variables internas del modelo\")\n",
        "print(capa.get_weights())"
      ],
      "execution_count": 46,
      "outputs": [
        {
          "output_type": "stream",
          "name": "stdout",
          "text": [
            "imprime variables internas del modelo\n",
            "[array([[1.7979492]], dtype=float32), array([31.952503], dtype=float32)]\n"
          ]
        }
      ]
    }
  ]
}